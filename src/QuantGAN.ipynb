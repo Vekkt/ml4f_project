{
 "cells": [
  {
   "cell_type": "markdown",
   "metadata": {
    "id": "zuyUo7pObAn-"
   },
   "source": [
    "# Get data"
   ]
  },
  {
   "cell_type": "code",
   "execution_count": 14,
   "metadata": {
    "id": "yFgOPX0mCZdP"
   },
   "outputs": [],
   "source": [
    "import numpy as np\n",
    "import pandas as pd\n",
    "import os\n",
    "import yfinance as yf\n",
    "import tensorflow as tf\n",
    "import matplotlib.pyplot as plt\n",
    "import seaborn as sns\n",
    "\n",
    "from scipy.optimize import fmin\n",
    "from scipy.special import lambertw\n",
    "from scipy.stats import kurtosis, zscore, normaltest, norm\n",
    "\n",
    "from keras.utils.vis_utils import plot_model\n",
    "from tensorflow import keras\n",
    "from gan import GAN\n",
    "\n",
    "from preprocess import Gaussianize, rolling_window\n",
    "\n",
    "from tqdm.keras import TqdmCallback\n"
   ]
  },
  {
   "cell_type": "code",
   "execution_count": 2,
   "metadata": {
    "id": "rkSWUW1YBA9d"
   },
   "outputs": [],
   "source": [
    "raw_data = yf.download('^GSPC','2009-05-01','2018-12-31')"
   ]
  },
  {
   "cell_type": "code",
   "execution_count": 4,
   "metadata": {},
   "outputs": [
    {
     "name": "stderr",
     "output_type": "stream",
     "text": [
      "h:\\My Drive\\EPFL Account\\ml4f\\ml4f_project\\src\\preprocess.py:25: RuntimeWarning: invalid value encountered in true_divide\n",
      "  return np.sign(z) * np.sqrt(np.real(lambertw(delta * z ** 2)) / delta)\n"
     ]
    },
    {
     "name": "stdout",
     "output_type": "stream",
     "text": [
      "3.962487043477273e-07 6\n"
     ]
    }
   ],
   "source": [
    "logret = np.diff(np.log(raw_data['Close']))\n",
    "gauss = Gaussianize()\n",
    "gauss.fit(logret)\n",
    "u = gauss.transform(logret)\n",
    "\n",
    "np.random.seed(0)\n",
    "\n",
    "loc, scale = norm.fit(u)\n",
    "print(f'loc: {loc:.6f}, scale: {scale:.6f}')\n",
    "print(f'kurtosis: {kurtosis(u, fisher=False):.6f}')\n",
    "print(normaltest(u))\n",
    "xmin, xmax = u.min(), u.max()\n",
    "x = np.linspace(xmin, xmax)\n",
    "plt.plot(x, norm.pdf(x, loc, scale), label='theo')\n",
    "plt.hist(u, alpha=0.5, bins=50, label='lamber', density=True)\n",
    "plt.legend()\n",
    "plt.show()\n",
    "\n"
   ]
  },
  {
   "cell_type": "markdown",
   "metadata": {
    "id": "MHH9qOD1bLLh"
   },
   "source": [
    "# Train model"
   ]
  },
  {
   "cell_type": "code",
   "execution_count": 7,
   "metadata": {
    "id": "CSzkLp3_19qN"
   },
   "outputs": [
    {
     "data": {
      "text/plain": [
       "(462, 127, 1)"
      ]
     },
     "execution_count": 7,
     "metadata": {},
     "output_type": "execute_result"
    }
   ],
   "source": [
    "data = rolling_window(u, 127, 5)\n",
    "\n",
    "data = np.expand_dims(data, 2)\n",
    "data.shape\n",
    "\n",
    "batch_size = 128\n",
    "data = tf.cast(data, tf.float32)\n",
    "dataset = tf.data.Dataset.from_tensor_slices(data).batch(batch_size)"
   ]
  },
  {
   "cell_type": "code",
   "execution_count": 13,
   "metadata": {
    "id": "FI2JF837HCWy"
   },
   "outputs": [],
   "source": [
    "latent_size = 3\n",
    "hidden_size = 80\n",
    "output_size = 1\n",
    "d_train_steps = 5\n",
    "rfs = 127\n",
    "gan = GAN(latent_size, hidden_size, output_size, d_train_steps)"
   ]
  },
  {
   "cell_type": "code",
   "execution_count": 9,
   "metadata": {
    "id": "7Qsi2e8N19qS"
   },
   "outputs": [],
   "source": [
    "g_optimizer = keras.optimizers.Adam(learning_rate=0.0001, beta_1=0, beta_2=0.9)\n",
    "d_optimizer = keras.optimizers.Adam(learning_rate=0.0002, beta_1=0, beta_2=0.9)\n",
    "\n",
    "gan.compile(\n",
    "    d_optimizer=g_optimizer,\n",
    "    g_optimizer=d_optimizer,\n",
    "    loss_fn=keras.losses.BinaryCrossentropy()\n",
    ")\n",
    "\n",
    "history = gan.fit(dataset, epochs=100, verbose=0, callbacks=[TqdmCallback(verbose=1)])"
   ]
  },
  {
   "cell_type": "code",
   "execution_count": 10,
   "metadata": {
    "id": "7Qsi2e8N19qS"
   },
   "outputs": [
    {
     "name": "stdout",
     "output_type": "stream",
     "text": [
      "Model: \"model\"\n",
      "__________________________________________________________________________________________________\n",
      " Layer (type)                   Output Shape         Param #     Connected to                     \n",
      "==================================================================================================\n",
      " input_1 (InputLayer)           [(None, 127, 1)]     0           []                               \n",
      "                                                                                                  \n",
      " temporal_block_7 (TemporalBloc  (None, 127, 80)     6642        ['input_1[0][0]']                \n",
      " k)                                                                                               \n",
      "                                                                                                  \n",
      " temporal_block_8 (TemporalBloc  (None, 127, 80)     12962       ['temporal_block_7[0][0]']       \n",
      " k)                                                                                               \n",
      "                                                                                                  \n",
      " temporal_block_9 (TemporalBloc  (None, 127, 80)     25762       ['temporal_block_8[0][0]']       \n",
      " k)                                                                                               \n",
      "                                                                                                  \n",
      " temporal_block_10 (TemporalBlo  (None, 127, 80)     51362       ['temporal_block_9[0][0]']       \n",
      " ck)                                                                                              \n",
      "                                                                                                  \n",
      " temporal_block_11 (TemporalBlo  (None, 127, 80)     102562      ['temporal_block_10[0][0]']      \n",
      " ck)                                                                                              \n",
      "                                                                                                  \n",
      " temporal_block_12 (TemporalBlo  (None, 127, 80)     204962      ['temporal_block_11[0][0]']      \n",
      " ck)                                                                                              \n",
      "                                                                                                  \n",
      " temporal_block_13 (TemporalBlo  (None, 127, 80)     409762      ['temporal_block_12[0][0]']      \n",
      " ck)                                                                                              \n",
      "                                                                                                  \n",
      " add_1 (Add)                    (None, 127, 80)      0           ['temporal_block_7[0][0]',       \n",
      "                                                                  'temporal_block_8[0][0]',       \n",
      "                                                                  'temporal_block_9[0][0]',       \n",
      "                                                                  'temporal_block_10[0][0]',      \n",
      "                                                                  'temporal_block_11[0][0]',      \n",
      "                                                                  'temporal_block_12[0][0]',      \n",
      "                                                                  'temporal_block_13[0][0]']      \n",
      "                                                                                                  \n",
      " conv1d_29 (Conv1D)             (None, 127, 1)       81          ['add_1[0][0]']                  \n",
      "                                                                                                  \n",
      "==================================================================================================\n",
      "Total params: 814,095\n",
      "Trainable params: 814,095\n",
      "Non-trainable params: 0\n",
      "__________________________________________________________________________________________________\n"
     ]
    }
   ],
   "source": [
    "history.history.keys()\n",
    "plt.plot(history.history['g_loss'], label='g_loss')\n",
    "plt.plot(history.history['d_loss'], label='d_loss')\n",
    "plt.legend()\n",
    "plt.show()"
   ]
  },
  {
   "cell_type": "code",
   "execution_count": null,
   "metadata": {
    "id": "JDk76CTQVm0z"
   },
   "outputs": [],
   "source": [
    "latent_noise = tf.random.normal(shape=(1, 3000, 3))\n",
    "fake = gan.generator(latent_noise).numpy().reshape(3000)"
   ]
  },
  {
   "cell_type": "code",
   "execution_count": null,
   "metadata": {},
   "outputs": [],
   "source": [
    "loc, scale = norm.fit(fake)\n",
    "print(f'loc: {loc:.6f}, scale: {scale:.6f}')\n",
    "print(f'kurtosis: {kurtosis(fake, fisher=False):.6f}')\n",
    "plt.hist(fake, bins=50, alpha=0.5, label='fake')\n",
    "plt.hist(u, bins=50, alpha=0.5, label='real')\n",
    "plt.legend()\n",
    "plt.show()"
   ]
  }
 ],
 "metadata": {
  "accelerator": "GPU",
  "colab": {
   "collapsed_sections": [],
   "name": "QuantGAN.ipynb",
   "provenance": []
  },
  "kernelspec": {
   "display_name": "Python 3 (ipykernel)",
   "language": "python",
   "name": "python3"
  },
  "language_info": {
   "codemirror_mode": {
    "name": "ipython",
    "version": 3
   },
   "file_extension": ".py",
   "mimetype": "text/x-python",
   "name": "python",
   "nbconvert_exporter": "python",
   "pygments_lexer": "ipython3",
   "version": "3.9.5"
  }
 },
 "nbformat": 4,
 "nbformat_minor": 4
}
