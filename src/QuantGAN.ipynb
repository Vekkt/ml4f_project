{
 "cells": [
  {
   "cell_type": "markdown",
   "metadata": {
    "id": "zuyUo7pObAn-"
   },
   "source": [
    "# Get data"
   ]
  },
  {
   "cell_type": "code",
   "execution_count": 8,
   "metadata": {
    "id": "yFgOPX0mCZdP"
   },
   "outputs": [],
   "source": [
    "import numpy as np\n",
    "import yfinance as yf\n",
    "import tensorflow as tf\n",
    "import matplotlib.pyplot as plt\n",
    "import seaborn as sns\n",
    "\n",
    "from scipy.optimize import fmin\n",
    "from scipy.special import lambertw\n",
    "from scipy.stats import kurtosis, zscore\n",
    "\n",
    "from tensorflow import keras\n",
    "from gan import GAN"
   ]
  },
  {
   "cell_type": "code",
   "execution_count": 9,
   "metadata": {
    "id": "rkSWUW1YBA9d"
   },
   "outputs": [
    {
     "name": "stdout",
     "output_type": "stream",
     "text": [
      "[*********************100%***********************]  1 of 1 completed\n"
     ]
    }
   ],
   "source": [
    "raw_data = yf.download('^GSPC','2009-05-01','2018-12-31')"
   ]
  },
  {
   "cell_type": "code",
   "execution_count": 10,
   "metadata": {
    "id": "wz5iL6aMEpJq"
   },
   "outputs": [],
   "source": [
    "def delta_GMM(x, gamma_0=3):\n",
    "  delta_0 = 1 / 66 * (np.sqrt(66 * gamma_0 - 162) - 6)\n",
    "\n",
    "  def f(delta):\n",
    "    u_delta = W_delta(x, delta)\n",
    "    gamma = kurtosis(u_delta, fisher=False)\n",
    "    return np.abs(gamma - gamma_0)\n",
    "\n",
    "  res = fmin(f, delta_0, disp=False)\n",
    "\n",
    "  return res[0]\n",
    "\n",
    "\n",
    "def W_delta(z, delta):\n",
    "  return np.sign(z) * np.sqrt(np.real(lambertw(delta * z ** 2)) / delta)\n",
    "\n",
    "\n",
    "def IGMM(y, tol=1e-6, n_max=1000):\n",
    "  tau_prev = np.array([0, 0, 0])\n",
    "  gamma = kurtosis(y, fisher=False)\n",
    "  delta = 1 / 66 * (np.sqrt(66 * gamma - 162) - 6)\n",
    "  tau = np.array([np.median(y), np.std(y) * np.power(1 - 2 * delta, 0.75), delta])\n",
    "  k = 0\n",
    "  \n",
    "  while np.linalg.norm(tau - tau_prev) > tol and k < n_max:\n",
    "\n",
    "    tau_prev = tau.copy()\n",
    "    z = (y - tau[0]) / tau[1]\n",
    "    tau[2] = delta_GMM(z) #at k+1\n",
    "    x = W_delta((z - tau[0]) / tau[1], tau[2]) * tau[1] + tau[0] \n",
    "    tau[0], tau[1] = np.mean(x), np.std(x)\n",
    "    k = k + 1\n",
    "    \n",
    "  if k > n_max:\n",
    "    raise RuntimeError(f\"IGMM did not converge after {n_max} iterations\")\n",
    "  return tau\n",
    "\n",
    "def rolling_window(array, window_size,freq):\n",
    "  shape = (array.shape[0] - window_size + 1, window_size)\n",
    "  strides = (array.strides[0],) + array.strides\n",
    "  rolled = np.lib.stride_tricks.as_strided(array, shape=shape, strides=strides)\n",
    "  return rolled[np.arange(0,shape[0],freq)]\n",
    "    "
   ]
  },
  {
   "cell_type": "code",
   "execution_count": 11,
   "metadata": {
    "id": "jJvLSUoGGp2a"
   },
   "outputs": [
    {
     "name": "stderr",
     "output_type": "stream",
     "text": [
      "<ipython-input-10-4bdfcaa40c41>:15: RuntimeWarning: invalid value encountered in true_divide\n",
      "  return np.sign(z) * np.sqrt(np.real(lambertw(delta * z ** 2)) / delta)\n"
     ]
    }
   ],
   "source": [
    "# 1) Log returns\n",
    "logret = np.diff(np.log(raw_data['Close']))\n",
    "# 2) Standardize\n",
    "logret_norm = zscore(logret)\n",
    "# 3) Inverse Lambert W transform\n",
    "#gamma_0 = kurtosis(logret_norm)\n",
    "tau = IGMM(logret_norm)\n",
    "processed = W_delta((logret_norm - tau[0]) / tau[1], tau[2])\n",
    "# 4) Normalize\n",
    "processed_norm = zscore(processed)\n",
    "# 5) Rolling window\n",
    "data = rolling_window(processed_norm, 127, 5)\n"
   ]
  },
  {
   "cell_type": "code",
   "execution_count": 34,
   "metadata": {},
   "outputs": [
    {
     "data": {
      "text/plain": [
       "<AxesSubplot:xlabel='Log Returns', ylabel='Density'>"
      ]
     },
     "execution_count": 34,
     "metadata": {},
     "output_type": "execute_result"
    },
    {
     "data": {
      "image/png": "[encoded data removed]",
      "text/plain": [
       "<Figure size 432x288 with 1 Axes>"
      ]
     },
     "metadata": {},
     "output_type": "display_data"
    }
   ],
   "source": [
    "fig, ax = plt.subplots()\n",
    "ax.set_xlim(-7, 7)\n",
    "ax.set_ylim(0, .8)\n",
    "ax.set_xlabel('Log Returns')\n",
    "ax.grid(axis='x')\n",
    "sns.histplot(processed_norm, bins=60, stat='density', kde=True, ax=ax)"
   ]
  },
  {
   "cell_type": "code",
   "execution_count": 33,
   "metadata": {},
   "outputs": [
    {
     "name": "stdout",
     "output_type": "stream",
     "text": [
      "custom Lambert W x Log returns mean=0.006, std=0.870\n",
      "from the paper mean=0.055, std=0.705\n"
     ]
    }
   ],
   "source": [
    "print(f\"custom Lambert W x Log returns mean={processed.mean():.3f}, std={processed.std():.3f}\")\n",
    "print(f\"from the paper mean=0.055, std=0.705\")"
   ]
  },
  {
   "cell_type": "markdown",
   "metadata": {
    "id": "MHH9qOD1bLLh"
   },
   "source": [
    "# Train model"
   ]
  },
  {
   "cell_type": "code",
   "execution_count": null,
   "metadata": {
    "id": "CSzkLp3_19qN"
   },
   "outputs": [],
   "source": [
    "data = np.expand_dims(data, 2)\n",
    "data.shape"
   ]
  },
  {
   "cell_type": "code",
   "execution_count": null,
   "metadata": {
    "id": "FI2JF837HCWy"
   },
   "outputs": [],
   "source": [
    "batch_size = 16\n",
    "dataset = tf.data.Dataset.from_tensor_slices(data).batch(batch_size)"
   ]
  },
  {
   "cell_type": "code",
   "execution_count": null,
   "metadata": {
    "id": "7Qsi2e8N19qS"
   },
   "outputs": [],
   "source": [
    "latent_size = 3\n",
    "hidden_size = 80\n",
    "output_size = 1\n",
    "d_train_steps = 5\n",
    "\n",
    "gan = GAN(latent_size, hidden_size, output_size, d_train_steps)\n",
    "\n",
    "gan.compile(\n",
    "    d_optimizer=keras.optimizers.Adam(learning_rate=0.0001),\n",
    "    g_optimizer=keras.optimizers.Adam(learning_rate=0.0002),\n",
    "    loss_fn=keras.losses.BinaryCrossentropy()\n",
    ")\n",
    "\n",
    "gan.fit(dataset, epochs=10)"
   ]
  },
  {
   "cell_type": "code",
   "execution_count": null,
   "metadata": {
    "id": "JDk76CTQVm0z"
   },
   "outputs": [],
   "source": [
    "latent_noise = tf.random.normal(shape=(1, 2433, 3))\n",
    "fake = gan.generator(latent_noise).numpy().reshape(2433)"
   ]
  },
  {
   "cell_type": "code",
   "execution_count": null,
   "metadata": {
    "id": "q8keSJ2H0kYB"
   },
   "outputs": [],
   "source": [
    "plt.hist(fake, bins=50)\n",
    "plt.show()"
   ]
  },
  {
   "cell_type": "code",
   "execution_count": null,
   "metadata": {
    "id": "SA9RurgE0sgM"
   },
   "outputs": [],
   "source": [
    "fake.mean()"
   ]
  },
  {
   "cell_type": "code",
   "execution_count": null,
   "metadata": {
    "id": "mTKMDwU31B0F"
   },
   "outputs": [],
   "source": [
    "data.mean()"
   ]
  },
  {
   "cell_type": "code",
   "execution_count": null,
   "metadata": {
    "id": "OgODDKo0dVaW"
   },
   "outputs": [],
   "source": []
  }
 ],
 "metadata": {
  "accelerator": "GPU",
  "colab": {
   "collapsed_sections": [],
   "name": "QuantGAN.ipynb",
   "provenance": []
  },
  "kernelspec": {
   "display_name": "Python 3",
   "name": "python3"
  },
  "language_info": {
   "codemirror_mode": {
    "name": "ipython",
    "version": 3
   },
   "file_extension": ".py",
   "mimetype": "text/x-python",
   "name": "python",
   "nbconvert_exporter": "python",
   "pygments_lexer": "ipython3",
   "version": "3.8.8"
  }
 },
 "nbformat": 4,
 "nbformat_minor": 0
}
